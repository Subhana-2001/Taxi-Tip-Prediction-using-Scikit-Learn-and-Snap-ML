{
 "cells": [
  {
   "cell_type": "markdown",
   "id": "2c308975",
   "metadata": {},
   "source": [
    "# Taxi Tip Prediction using Scikit-Learn and Snap ML"
   ]
  },
  {
   "cell_type": "markdown",
   "id": "4f8ce34a",
   "metadata": {},
   "source": [
    "## Objectives\n"
   ]
  },
  {
   "cell_type": "markdown",
   "id": "c11de716",
   "metadata": {},
   "source": [
    "After completing this project we will be able to:\n",
    "    "
   ]
  },
  {
   "cell_type": "markdown",
   "id": "24b00e00",
   "metadata": {},
   "source": [
    "* Perform basic data preprocessing using Scikit-Learn\n",
    "* Model a regression task using the Scikit-Learn and Snap ML Python APIs\n",
    "* Train a Decision Tree Regressor model using Scikit-Learn and Snap ML\n",
    "* Run inference and assess the quality of the trained models\n"
   ]
  },
  {
   "cell_type": "markdown",
   "id": "758359d1",
   "metadata": {},
   "source": [
    "## Table of Contents\n"
   ]
  },
  {
   "cell_type": "markdown",
   "id": "5adccdb2",
   "metadata": {},
   "source": [
    "<div class=\"alert alert-block alert-info\" style=\"margin-top: 10px\">\n",
    "    <ol>\n",
    "        <li><a href=\"#introduction\">Introduction</a></li>\n",
    "        <li><a href=\"#import_libraries\">Import Libraries</a></li>\n",
    "        <li><a href=\"#dataset_analysis\">Dataset Analysis</a></li>\n",
    "        <li><a href=\"#dataset_preprocessing\">Dataset Preprocessing</a></li>\n",
    "        <li><a href=\"#dataset_split\">Dataset Train/Test Split</a></li>\n",
    "        <li><a href=\"#dt_sklearn\">Build a Decision Tree Regressor model with Scikit-Learn</a></li>\n",
    "        <li><a href=\"#dt_snap\">Build a Decision Tree Regressor model with Snap ML</a></li>\n",
    "        <li><a href=\"#dt_sklearn_snap\">Evaluate the Scikit-Learn and Snap ML Decision Tree Regressors</a></li>\n",
    "    </ol>\n",
    "</div>\n",
    "<br>\n",
    "<hr>\n"
   ]
  },
  {
   "cell_type": "markdown",
   "id": "637bbd77",
   "metadata": {},
   "source": [
    "<div id=\"Introduction\">\n",
    "    <h2>Introduction</h2>\n",
    "    <br> The TLC Yellow Taxi Trip Records of June, 2019 are used in this notebook. The prediction of the tip amount can be modeled as a regression problem. To train the model you can use part of the input dataset and the remaining data can be used to assess the quality of the trained model. First, let's download the dataset.\n",
    "    <br>\n",
    "</div>\n"
   ]
  },
  {
   "cell_type": "markdown",
   "id": "b397d808",
   "metadata": {},
   "source": [
    "<div id=\"import_libraries\">\n",
    "    <h2>Import Libraries</h2>\n",
    "</div>\n"
   ]
  },
  {
   "cell_type": "code",
   "execution_count": 1,
   "id": "c9001399",
   "metadata": {},
   "outputs": [
    {
     "name": "stdout",
     "output_type": "stream",
     "text": [
      "Skipping, found downloaded files in \".\\yellow-tripdata-2019-06-csv\" (use force=True to force download)\n"
     ]
    }
   ],
   "source": [
    "# Install the opendatasets package if you haven't already\n",
    "#!pip install opendatasets\n",
    "\n",
    "# Import the opendatasets library\n",
    "import opendatasets as od\n",
    "\n",
    "# Download the dataset from Kaggle\n",
    "# Note: You'll be prompted to enter your Kaggle username and password during the download\n",
    "od.download(\"https://www.kaggle.com/datasets/tosinbells/yellow-tripdata-2019-06-csv\")"
   ]
  },
  {
   "cell_type": "code",
   "execution_count": 2,
   "id": "4d627714",
   "metadata": {
    "scrolled": true
   },
   "outputs": [
    {
     "name": "stdout",
     "output_type": "stream",
     "text": [
      "Requirement already satisfied: snapml in c:\\users\\user\\desktop\\anaconda\\lib\\site-packages (1.14.2)\n",
      "Requirement already satisfied: scikit-learn in c:\\users\\user\\desktop\\anaconda\\lib\\site-packages (from snapml) (1.3.1)\n",
      "Requirement already satisfied: scipy in c:\\users\\user\\desktop\\anaconda\\lib\\site-packages (from snapml) (1.10.1)\n",
      "Requirement already satisfied: numpy>=1.23.2 in c:\\users\\user\\desktop\\anaconda\\lib\\site-packages (from snapml) (1.24.3)\n",
      "Requirement already satisfied: joblib>=1.1.1 in c:\\users\\user\\desktop\\anaconda\\lib\\site-packages (from scikit-learn->snapml) (1.2.0)\n",
      "Requirement already satisfied: threadpoolctl>=2.0.0 in c:\\users\\user\\desktop\\anaconda\\lib\\site-packages (from scikit-learn->snapml) (2.2.0)\n"
     ]
    }
   ],
   "source": [
    "# Snap ML is available on PyPI. To install it simply run the pip command below.\n",
    "!pip install snapml"
   ]
  },
  {
   "cell_type": "code",
   "execution_count": 3,
   "id": "0b1a3669",
   "metadata": {},
   "outputs": [],
   "source": [
    "# Import the libraries we need to use in this project\n",
    "from __future__ import print_function\n",
    "import numpy as np\n",
    "import pandas as pd\n",
    "import matplotlib.pyplot as plt\n",
    "%matplotlib inline\n",
    "from sklearn.model_selection import train_test_split\n",
    "from sklearn.preprocessing import normalize, StandardScaler, MinMaxScaler\n",
    "from sklearn.utils.class_weight import compute_sample_weight\n",
    "from sklearn.metrics import mean_squared_error\n",
    "import time\n",
    "import warnings\n",
    "import gc, sys\n",
    "warnings.filterwarnings('ignore')"
   ]
  },
  {
   "cell_type": "markdown",
   "id": "dbd7faf2",
   "metadata": {},
   "source": [
    "<div id=\"dataset_analysis\">\n",
    "    <h2>Dataset Analysis</h2>\n",
    "</div>\n"
   ]
  },
  {
   "cell_type": "code",
   "execution_count": 4,
   "id": "86e2d91d",
   "metadata": {},
   "outputs": [
    {
     "name": "stdout",
     "output_type": "stream",
     "text": [
      "There are 3936004 observations in the dataset.\n",
      "There are 18 variables in the dataset.\n"
     ]
    },
    {
     "data": {
      "text/html": [
       "<div>\n",
       "<style scoped>\n",
       "    .dataframe tbody tr th:only-of-type {\n",
       "        vertical-align: middle;\n",
       "    }\n",
       "\n",
       "    .dataframe tbody tr th {\n",
       "        vertical-align: top;\n",
       "    }\n",
       "\n",
       "    .dataframe thead th {\n",
       "        text-align: right;\n",
       "    }\n",
       "</style>\n",
       "<table border=\"1\" class=\"dataframe\">\n",
       "  <thead>\n",
       "    <tr style=\"text-align: right;\">\n",
       "      <th></th>\n",
       "      <th>VendorID</th>\n",
       "      <th>tpep_pickup_datetime</th>\n",
       "      <th>tpep_dropoff_datetime</th>\n",
       "      <th>passenger_count</th>\n",
       "      <th>trip_distance</th>\n",
       "      <th>RatecodeID</th>\n",
       "      <th>store_and_fwd_flag</th>\n",
       "      <th>PULocationID</th>\n",
       "      <th>DOLocationID</th>\n",
       "      <th>payment_type</th>\n",
       "      <th>fare_amount</th>\n",
       "      <th>extra</th>\n",
       "      <th>mta_tax</th>\n",
       "      <th>tip_amount</th>\n",
       "      <th>tolls_amount</th>\n",
       "      <th>improvement_surcharge</th>\n",
       "      <th>total_amount</th>\n",
       "      <th>congestion_surcharge</th>\n",
       "    </tr>\n",
       "  </thead>\n",
       "  <tbody>\n",
       "    <tr>\n",
       "      <th>0</th>\n",
       "      <td>1</td>\n",
       "      <td>2019-06-01 00:55:13</td>\n",
       "      <td>2019-06-01 00:56:17</td>\n",
       "      <td>1.0</td>\n",
       "      <td>0.0</td>\n",
       "      <td>1.0</td>\n",
       "      <td>N</td>\n",
       "      <td>145.0</td>\n",
       "      <td>145.0</td>\n",
       "      <td>2.0</td>\n",
       "      <td>3.0</td>\n",
       "      <td>0.5</td>\n",
       "      <td>0.5</td>\n",
       "      <td>0.00</td>\n",
       "      <td>0.0</td>\n",
       "      <td>0.3</td>\n",
       "      <td>4.30</td>\n",
       "      <td>0.0</td>\n",
       "    </tr>\n",
       "    <tr>\n",
       "      <th>1</th>\n",
       "      <td>1</td>\n",
       "      <td>2019-06-01 00:06:31</td>\n",
       "      <td>2019-06-01 00:06:52</td>\n",
       "      <td>1.0</td>\n",
       "      <td>0.0</td>\n",
       "      <td>1.0</td>\n",
       "      <td>N</td>\n",
       "      <td>262.0</td>\n",
       "      <td>263.0</td>\n",
       "      <td>2.0</td>\n",
       "      <td>2.5</td>\n",
       "      <td>3.0</td>\n",
       "      <td>0.5</td>\n",
       "      <td>0.00</td>\n",
       "      <td>0.0</td>\n",
       "      <td>0.3</td>\n",
       "      <td>6.30</td>\n",
       "      <td>2.5</td>\n",
       "    </tr>\n",
       "    <tr>\n",
       "      <th>2</th>\n",
       "      <td>1</td>\n",
       "      <td>2019-06-01 00:17:05</td>\n",
       "      <td>2019-06-01 00:36:38</td>\n",
       "      <td>1.0</td>\n",
       "      <td>4.4</td>\n",
       "      <td>1.0</td>\n",
       "      <td>N</td>\n",
       "      <td>74.0</td>\n",
       "      <td>7.0</td>\n",
       "      <td>2.0</td>\n",
       "      <td>17.5</td>\n",
       "      <td>0.5</td>\n",
       "      <td>0.5</td>\n",
       "      <td>0.00</td>\n",
       "      <td>0.0</td>\n",
       "      <td>0.3</td>\n",
       "      <td>18.80</td>\n",
       "      <td>0.0</td>\n",
       "    </tr>\n",
       "    <tr>\n",
       "      <th>3</th>\n",
       "      <td>1</td>\n",
       "      <td>2019-06-01 00:59:02</td>\n",
       "      <td>2019-06-01 00:59:12</td>\n",
       "      <td>0.0</td>\n",
       "      <td>0.8</td>\n",
       "      <td>1.0</td>\n",
       "      <td>N</td>\n",
       "      <td>145.0</td>\n",
       "      <td>145.0</td>\n",
       "      <td>2.0</td>\n",
       "      <td>2.5</td>\n",
       "      <td>1.0</td>\n",
       "      <td>0.5</td>\n",
       "      <td>0.00</td>\n",
       "      <td>0.0</td>\n",
       "      <td>0.3</td>\n",
       "      <td>4.30</td>\n",
       "      <td>0.0</td>\n",
       "    </tr>\n",
       "    <tr>\n",
       "      <th>4</th>\n",
       "      <td>1</td>\n",
       "      <td>2019-06-01 00:03:25</td>\n",
       "      <td>2019-06-01 00:15:42</td>\n",
       "      <td>1.0</td>\n",
       "      <td>1.7</td>\n",
       "      <td>1.0</td>\n",
       "      <td>N</td>\n",
       "      <td>113.0</td>\n",
       "      <td>148.0</td>\n",
       "      <td>1.0</td>\n",
       "      <td>9.5</td>\n",
       "      <td>3.0</td>\n",
       "      <td>0.5</td>\n",
       "      <td>2.65</td>\n",
       "      <td>0.0</td>\n",
       "      <td>0.3</td>\n",
       "      <td>15.95</td>\n",
       "      <td>2.5</td>\n",
       "    </tr>\n",
       "  </tbody>\n",
       "</table>\n",
       "</div>"
      ],
      "text/plain": [
       "   VendorID tpep_pickup_datetime tpep_dropoff_datetime  passenger_count  \\\n",
       "0         1  2019-06-01 00:55:13   2019-06-01 00:56:17              1.0   \n",
       "1         1  2019-06-01 00:06:31   2019-06-01 00:06:52              1.0   \n",
       "2         1  2019-06-01 00:17:05   2019-06-01 00:36:38              1.0   \n",
       "3         1  2019-06-01 00:59:02   2019-06-01 00:59:12              0.0   \n",
       "4         1  2019-06-01 00:03:25   2019-06-01 00:15:42              1.0   \n",
       "\n",
       "   trip_distance  RatecodeID store_and_fwd_flag  PULocationID  DOLocationID  \\\n",
       "0            0.0         1.0                  N         145.0         145.0   \n",
       "1            0.0         1.0                  N         262.0         263.0   \n",
       "2            4.4         1.0                  N          74.0           7.0   \n",
       "3            0.8         1.0                  N         145.0         145.0   \n",
       "4            1.7         1.0                  N         113.0         148.0   \n",
       "\n",
       "   payment_type  fare_amount  extra  mta_tax  tip_amount  tolls_amount  \\\n",
       "0           2.0          3.0    0.5      0.5        0.00           0.0   \n",
       "1           2.0          2.5    3.0      0.5        0.00           0.0   \n",
       "2           2.0         17.5    0.5      0.5        0.00           0.0   \n",
       "3           2.0          2.5    1.0      0.5        0.00           0.0   \n",
       "4           1.0          9.5    3.0      0.5        2.65           0.0   \n",
       "\n",
       "   improvement_surcharge  total_amount  congestion_surcharge  \n",
       "0                    0.3          4.30                   0.0  \n",
       "1                    0.3          6.30                   2.5  \n",
       "2                    0.3         18.80                   0.0  \n",
       "3                    0.3          4.30                   0.0  \n",
       "4                    0.3         15.95                   2.5  "
      ]
     },
     "execution_count": 4,
     "metadata": {},
     "output_type": "execute_result"
    }
   ],
   "source": [
    "# Read the input data from a CSV file\n",
    "raw_data = pd.read_csv('yellow-tripdata-2019-06-csv/yellow_tripdata_2019-06.csv')\n",
    "\n",
    "# Print the number of observations (rows) and variables (columns) in the dataset\n",
    "print(\"There are \" + str(len(raw_data)) + \" observations in the dataset.\")\n",
    "print(\"There are \" + str(len(raw_data.columns)) + \" variables in the dataset.\")\n",
    "\n",
    "# Display the first few rows of the dataset\n",
    "raw_data.head()"
   ]
  },
  {
   "cell_type": "markdown",
   "id": "a3493c9a",
   "metadata": {},
   "source": [
    "Each row in the dataset represents a taxi trip. As shown above, each row has 18 variables. One variable is called tip_amount and represents the target variable. Our objective is to train a model that uses the other variables to predict the value of the tip_amount variable. Let's first clean the dataset and retrieve basic statistics about the target variable."
   ]
  },
  {
   "cell_type": "code",
   "execution_count": 5,
   "id": "05a81a6c",
   "metadata": {},
   "outputs": [
    {
     "name": "stdout",
     "output_type": "stream",
     "text": [
      "There are 2712719 observations in the dataset.\n",
      "There are 17 variables in the dataset.\n"
     ]
    },
    {
     "data": {
      "image/png": "[encoded data removed]",
      "text/plain": [
       "<Figure size 640x480 with 1 Axes>"
      ]
     },
     "metadata": {},
     "output_type": "display_data"
    },
    {
     "name": "stdout",
     "output_type": "stream",
     "text": [
      "Minimum amount value is  0.01\n",
      "Maximum amount value is  130.0\n",
      "90% of the trips have a tip amount less or equal than  5.95\n"
     ]
    }
   ],
   "source": [
    "# some trips report 0 tip. it is assumed that these tips were paid in cash.\n",
    "# for this study we drop all these rows\n",
    "raw_data = raw_data[raw_data['tip_amount'] > 0]\n",
    "\n",
    "# we also remove some outliers, namely those where the tip was larger than the fare cost.\n",
    "#This step aims to remove records with unlikely or erroneous data.\n",
    "raw_data = raw_data[(raw_data['tip_amount'] <= raw_data['fare_amount'])]\n",
    "\n",
    "# we remove trips with very large fare cost\n",
    "#This is likely done to exclude trips that are considered unrealistic or erroneous.\n",
    "raw_data = raw_data[((raw_data['fare_amount'] >=2) & (raw_data['fare_amount'] < 200))]\n",
    "\n",
    "# we drop variables that include the target variable in it, namely the total_amount\n",
    "clean_data = raw_data.drop(['total_amount'], axis=1)\n",
    "\n",
    "# release memory occupied by raw_data as we do not need it anymore\n",
    "# we are dealing with a large dataset, thus we need to make sure we do not run out of memory\n",
    "del raw_data\n",
    "gc.collect()\n",
    "\n",
    "# print the number of trips left in the dataset\n",
    "print(\"There are \" + str(len(clean_data)) + \" observations in the dataset.\")\n",
    "print(\"There are \" + str(len(clean_data.columns)) + \" variables in the dataset.\")\n",
    "\n",
    "plt.hist(clean_data.tip_amount.values, 16, histtype='bar', facecolor='g')\n",
    "plt.title('Summary Statistics')\n",
    "plt.show()\n",
    "\n",
    "print(\"Minimum amount value is \", np.min(clean_data.tip_amount.values))\n",
    "print(\"Maximum amount value is \", np.max(clean_data.tip_amount.values))\n",
    "print(\"90% of the trips have a tip amount less or equal than \", np.percentile(clean_data.tip_amount.values, 90))"
   ]
  },
  {
   "cell_type": "code",
   "execution_count": 6,
   "id": "6dc534c1",
   "metadata": {},
   "outputs": [
    {
     "data": {
      "text/html": [
       "<div>\n",
       "<style scoped>\n",
       "    .dataframe tbody tr th:only-of-type {\n",
       "        vertical-align: middle;\n",
       "    }\n",
       "\n",
       "    .dataframe tbody tr th {\n",
       "        vertical-align: top;\n",
       "    }\n",
       "\n",
       "    .dataframe thead th {\n",
       "        text-align: right;\n",
       "    }\n",
       "</style>\n",
       "<table border=\"1\" class=\"dataframe\">\n",
       "  <thead>\n",
       "    <tr style=\"text-align: right;\">\n",
       "      <th></th>\n",
       "      <th>VendorID</th>\n",
       "      <th>tpep_pickup_datetime</th>\n",
       "      <th>tpep_dropoff_datetime</th>\n",
       "      <th>passenger_count</th>\n",
       "      <th>trip_distance</th>\n",
       "      <th>RatecodeID</th>\n",
       "      <th>store_and_fwd_flag</th>\n",
       "      <th>PULocationID</th>\n",
       "      <th>DOLocationID</th>\n",
       "      <th>payment_type</th>\n",
       "      <th>fare_amount</th>\n",
       "      <th>extra</th>\n",
       "      <th>mta_tax</th>\n",
       "      <th>tip_amount</th>\n",
       "      <th>tolls_amount</th>\n",
       "      <th>improvement_surcharge</th>\n",
       "      <th>congestion_surcharge</th>\n",
       "    </tr>\n",
       "  </thead>\n",
       "  <tbody>\n",
       "    <tr>\n",
       "      <th>4</th>\n",
       "      <td>1</td>\n",
       "      <td>2019-06-01 00:03:25</td>\n",
       "      <td>2019-06-01 00:15:42</td>\n",
       "      <td>1.0</td>\n",
       "      <td>1.70</td>\n",
       "      <td>1.0</td>\n",
       "      <td>N</td>\n",
       "      <td>113.0</td>\n",
       "      <td>148.0</td>\n",
       "      <td>1.0</td>\n",
       "      <td>9.5</td>\n",
       "      <td>3.0</td>\n",
       "      <td>0.5</td>\n",
       "      <td>2.65</td>\n",
       "      <td>0.0</td>\n",
       "      <td>0.3</td>\n",
       "      <td>2.5</td>\n",
       "    </tr>\n",
       "    <tr>\n",
       "      <th>5</th>\n",
       "      <td>1</td>\n",
       "      <td>2019-06-01 00:28:31</td>\n",
       "      <td>2019-06-01 00:39:23</td>\n",
       "      <td>2.0</td>\n",
       "      <td>1.60</td>\n",
       "      <td>1.0</td>\n",
       "      <td>N</td>\n",
       "      <td>79.0</td>\n",
       "      <td>125.0</td>\n",
       "      <td>1.0</td>\n",
       "      <td>9.5</td>\n",
       "      <td>3.0</td>\n",
       "      <td>0.5</td>\n",
       "      <td>1.00</td>\n",
       "      <td>0.0</td>\n",
       "      <td>0.3</td>\n",
       "      <td>2.5</td>\n",
       "    </tr>\n",
       "    <tr>\n",
       "      <th>7</th>\n",
       "      <td>1</td>\n",
       "      <td>2019-06-01 00:54:49</td>\n",
       "      <td>2019-06-01 01:02:57</td>\n",
       "      <td>2.0</td>\n",
       "      <td>1.20</td>\n",
       "      <td>1.0</td>\n",
       "      <td>N</td>\n",
       "      <td>79.0</td>\n",
       "      <td>249.0</td>\n",
       "      <td>1.0</td>\n",
       "      <td>7.5</td>\n",
       "      <td>3.0</td>\n",
       "      <td>0.5</td>\n",
       "      <td>1.00</td>\n",
       "      <td>0.0</td>\n",
       "      <td>0.3</td>\n",
       "      <td>2.5</td>\n",
       "    </tr>\n",
       "    <tr>\n",
       "      <th>9</th>\n",
       "      <td>1</td>\n",
       "      <td>2019-06-01 00:29:12</td>\n",
       "      <td>2019-06-01 01:03:13</td>\n",
       "      <td>1.0</td>\n",
       "      <td>8.60</td>\n",
       "      <td>1.0</td>\n",
       "      <td>N</td>\n",
       "      <td>186.0</td>\n",
       "      <td>243.0</td>\n",
       "      <td>1.0</td>\n",
       "      <td>31.5</td>\n",
       "      <td>3.0</td>\n",
       "      <td>0.5</td>\n",
       "      <td>7.05</td>\n",
       "      <td>0.0</td>\n",
       "      <td>0.3</td>\n",
       "      <td>2.5</td>\n",
       "    </tr>\n",
       "    <tr>\n",
       "      <th>10</th>\n",
       "      <td>2</td>\n",
       "      <td>2019-06-01 00:01:48</td>\n",
       "      <td>2019-06-01 00:16:06</td>\n",
       "      <td>1.0</td>\n",
       "      <td>1.74</td>\n",
       "      <td>1.0</td>\n",
       "      <td>N</td>\n",
       "      <td>107.0</td>\n",
       "      <td>148.0</td>\n",
       "      <td>1.0</td>\n",
       "      <td>11.0</td>\n",
       "      <td>0.5</td>\n",
       "      <td>0.5</td>\n",
       "      <td>2.96</td>\n",
       "      <td>0.0</td>\n",
       "      <td>0.3</td>\n",
       "      <td>2.5</td>\n",
       "    </tr>\n",
       "  </tbody>\n",
       "</table>\n",
       "</div>"
      ],
      "text/plain": [
       "    VendorID tpep_pickup_datetime tpep_dropoff_datetime  passenger_count  \\\n",
       "4          1  2019-06-01 00:03:25   2019-06-01 00:15:42              1.0   \n",
       "5          1  2019-06-01 00:28:31   2019-06-01 00:39:23              2.0   \n",
       "7          1  2019-06-01 00:54:49   2019-06-01 01:02:57              2.0   \n",
       "9          1  2019-06-01 00:29:12   2019-06-01 01:03:13              1.0   \n",
       "10         2  2019-06-01 00:01:48   2019-06-01 00:16:06              1.0   \n",
       "\n",
       "    trip_distance  RatecodeID store_and_fwd_flag  PULocationID  DOLocationID  \\\n",
       "4            1.70         1.0                  N         113.0         148.0   \n",
       "5            1.60         1.0                  N          79.0         125.0   \n",
       "7            1.20         1.0                  N          79.0         249.0   \n",
       "9            8.60         1.0                  N         186.0         243.0   \n",
       "10           1.74         1.0                  N         107.0         148.0   \n",
       "\n",
       "    payment_type  fare_amount  extra  mta_tax  tip_amount  tolls_amount  \\\n",
       "4            1.0          9.5    3.0      0.5        2.65           0.0   \n",
       "5            1.0          9.5    3.0      0.5        1.00           0.0   \n",
       "7            1.0          7.5    3.0      0.5        1.00           0.0   \n",
       "9            1.0         31.5    3.0      0.5        7.05           0.0   \n",
       "10           1.0         11.0    0.5      0.5        2.96           0.0   \n",
       "\n",
       "    improvement_surcharge  congestion_surcharge  \n",
       "4                     0.3                   2.5  \n",
       "5                     0.3                   2.5  \n",
       "7                     0.3                   2.5  \n",
       "9                     0.3                   2.5  \n",
       "10                    0.3                   2.5  "
      ]
     },
     "execution_count": 6,
     "metadata": {},
     "output_type": "execute_result"
    }
   ],
   "source": [
    "clean_data.head()"
   ]
  },
  {
   "cell_type": "markdown",
   "id": "168ccbb0",
   "metadata": {},
   "source": [
    "By looking at the dataset in more detail, we see that it contains information such as pick-up and drop-off dates/times, pick-up and drop-off locations, payment types, driver-reported passenger counts etc. Before actually training a ML model, we will need to preprocess the data. We need to transform the data in a format that will be correctly handled by the models. For instance, we need to encode the categorical features."
   ]
  },
  {
   "cell_type": "markdown",
   "id": "8660ccdd",
   "metadata": {},
   "source": [
    "<div id=\"dataset_preprocessing\">\n",
    "    <h2>Dataset Preprocessing</h2>\n",
    "</div>"
   ]
  },
  {
   "cell_type": "markdown",
   "id": "9fffa5c9",
   "metadata": {},
   "source": [
    "In this subsection we will prepare the data for training."
   ]
  },
  {
   "cell_type": "code",
   "execution_count": 7,
   "id": "a2c6a701",
   "metadata": {},
   "outputs": [],
   "source": [
    "# Convert 'tpep_dropoff_datetime' and 'tpep_pickup_datetime' columns to datetime objects\n",
    "clean_data['tpep_pickup_datetime']=pd.to_datetime(clean_data['tpep_pickup_datetime'])\n",
    "clean_data['tpep_dropoff_datetime']=pd.to_datetime(clean_data['tpep_dropoff_datetime'])\n",
    "\n",
    "#Extract pickup and dropoff hour\n",
    "clean_data['pickup_hour']=clean_data['tpep_pickup_datetime'].dt.hour\n",
    "clean_data['dropoff_hour']=clean_data['tpep_dropoff_datetime'].dt.hour\n",
    "\n",
    "# Extract pickup and dropoff day of the week (0 = Monday, 6 = Sunday)\n",
    "clean_data['pickup_day'] = clean_data['tpep_pickup_datetime'].dt.weekday\n",
    "clean_data['dropoff_day'] = clean_data['tpep_dropoff_datetime'].dt.weekday\n",
    "\n",
    "# Calculate trip time in seconds\n",
    "clean_data['trip_time'] = (clean_data['tpep_dropoff_datetime'] - clean_data['tpep_pickup_datetime']).dt.total_seconds()\n",
    "\n",
    "# However, if you run into out-of-memory issues due to the data size, reduce it.\n",
    "# For instance, in this example, we use only the first 200,000 samples.\n",
    "first_n_rows = 200000\n",
    "clean_data = clean_data.head(first_n_rows)"
   ]
  },
  {
   "cell_type": "code",
   "execution_count": 8,
   "id": "e0608a33",
   "metadata": {},
   "outputs": [
    {
     "data": {
      "text/plain": [
       "3675"
      ]
     },
     "execution_count": 8,
     "metadata": {},
     "output_type": "execute_result"
    }
   ],
   "source": [
    "# drop the pickup and dropoff datetimes\n",
    "clean_data = clean_data.drop(['tpep_pickup_datetime', 'tpep_dropoff_datetime'], axis=1)\n",
    "\n",
    "# some features are categorical, we need to encode them\n",
    "# to encode them we use one-hot encoding from the Pandas package\n",
    "#One-hot encoding is a technique used in data preprocessing to convert categorical data into a numerical format that can be used by machine learning algorithms. \n",
    "get_dummy_col = [\"VendorID\",\"RatecodeID\",\"store_and_fwd_flag\",\"PULocationID\", \"DOLocationID\",\"payment_type\", \"pickup_hour\", \"dropoff_hour\", \"pickup_day\", \"dropoff_day\"]\n",
    "proc_data = pd.get_dummies(clean_data, columns = get_dummy_col)\n",
    "\n",
    "# release memory occupied by clean_data as we do not need it anymore\n",
    "# we are dealing with a large dataset, thus we need to make sure we do not run out of memory\n",
    "del clean_data\n",
    "gc.collect()"
   ]
  },
  {
   "cell_type": "code",
   "execution_count": 9,
   "id": "2a2a69f7",
   "metadata": {},
   "outputs": [
    {
     "name": "stdout",
     "output_type": "stream",
     "text": [
      "X.shape= (200000, 517) y.shape= (200000, 1)\n"
     ]
    }
   ],
   "source": [
    "# extract the labels from the dataframe\n",
    "y = proc_data[['tip_amount']].values.astype('float32')\n",
    "\n",
    "# drop the target variable from the feature matrix\n",
    "proc_data = proc_data.drop(['tip_amount'], axis=1)\n",
    "\n",
    "# get the feature matrix used for training\n",
    "X = proc_data.values\n",
    "\n",
    "# normalize the feature matrix\n",
    "X = normalize(X, axis=1, norm='l1', copy=False)\n",
    "\n",
    "# print the shape of the features matrix and the labels vector\n",
    "print('X.shape=', X.shape, 'y.shape=', y.shape)"
   ]
  },
  {
   "cell_type": "markdown",
   "id": "7fb5b704",
   "metadata": {},
   "source": [
    "<div id=\"dataset_split\">\n",
    "    <h2>Dataset Train/Test Split</h2>\n",
    "</div>\n"
   ]
  },
  {
   "cell_type": "markdown",
   "id": "70f79219",
   "metadata": {},
   "source": [
    "Now that the dataset is ready for building the classification models, we need to first divide the pre-processed dataset into a subset to be used for training the model (the train set) and a subset to be used for evaluating the quality of the model (the test set)."
   ]
  },
  {
   "cell_type": "code",
   "execution_count": 10,
   "id": "bd1e9b27",
   "metadata": {},
   "outputs": [
    {
     "name": "stdout",
     "output_type": "stream",
     "text": [
      "X_train.shape= (140000, 517) Y_train.shape= (140000, 1)\n",
      "X_test.shape= (60000, 517) Y_test.shape= (60000, 1)\n"
     ]
    }
   ],
   "source": [
    "X_train, X_test, y_train, y_test = train_test_split(X, y, test_size=0.3, random_state=42)\n",
    "print('X_train.shape=', X_train.shape, 'Y_train.shape=', y_train.shape)\n",
    "print('X_test.shape=', X_test.shape, 'Y_test.shape=', y_test.shape)"
   ]
  },
  {
   "cell_type": "markdown",
   "id": "8fb983ae",
   "metadata": {},
   "source": [
    "<div id=\"dt_sklearn\">\n",
    "    <h2>Build a Decision Tree Regressor model with Scikit-Learn</h2>\n",
    "</div>\n"
   ]
  },
  {
   "cell_type": "code",
   "execution_count": 11,
   "id": "16e3b8d7",
   "metadata": {},
   "outputs": [
    {
     "name": "stdout",
     "output_type": "stream",
     "text": [
      "[Scikit-Learn] Training time (s):  23.50507\n"
     ]
    }
   ],
   "source": [
    "# import the Decision Tree Regression Model from scikit-learn\n",
    "from sklearn.tree import DecisionTreeRegressor\n",
    "\n",
    "# for reproducible output across multiple function calls, set random_state to a given integer value\n",
    "sklearn_dt = DecisionTreeRegressor(max_depth=8, random_state=35)\n",
    "\n",
    "# train a Decision Tree Regressor using scikit-learn\n",
    "t0 = time.time()\n",
    "sklearn_dt.fit(X_train, y_train)\n",
    "sklearn_time = time.time()-t0\n",
    "print(\"[Scikit-Learn] Training time (s):  {0:.5f}\".format(sklearn_time))"
   ]
  },
  {
   "cell_type": "markdown",
   "id": "1eacdfd0",
   "metadata": {},
   "source": [
    "<div id=\"dt_snapml\">\n",
    "    <h2>Build a Decision Tree Regressor model with Snap ML</h2>\n",
    "</div>\n"
   ]
  },
  {
   "cell_type": "code",
   "execution_count": 12,
   "id": "e30f4a53",
   "metadata": {},
   "outputs": [
    {
     "name": "stdout",
     "output_type": "stream",
     "text": [
      "[Snap ML] Training time (s):  3.57273\n"
     ]
    }
   ],
   "source": [
    "# import the Decision Tree Regressor Model from Snap ML\n",
    "from snapml import DecisionTreeRegressor\n",
    "\n",
    "# in contrast to sklearn's Decision Tree, Snap ML offers multi-threaded CPU/GPU training \n",
    "# to use the GPU, one needs to set the use_gpu parameter to True\n",
    "# snapml_dt = DecisionTreeRegressor(max_depth=4, random_state=45, use_gpu=True)\n",
    "\n",
    "# to set the number of CPU threads used at training time, one needs to set the n_jobs parameter\n",
    "# for reproducible output across multiple function calls, set random_state to a given integer value\n",
    "snapml_dt = DecisionTreeRegressor(max_depth=8, random_state=45, n_jobs=4)\n",
    "\n",
    "# train a Decision Tree Regressor model using Snap ML\n",
    "t0 = time.time()\n",
    "snapml_dt.fit(X_train, y_train)\n",
    "snapml_time = time.time()-t0\n",
    "print(\"[Snap ML] Training time (s):  {0:.5f}\".format(snapml_time))"
   ]
  },
  {
   "cell_type": "markdown",
   "id": "ab88d949",
   "metadata": {},
   "source": [
    "<div id=\"dt_sklearn_snapml\">\n",
    "    <h2>Evaluate the Scikit-Learn and Snap ML Decision Tree Regressor Models</h2>\n",
    "</div>\n"
   ]
  },
  {
   "cell_type": "code",
   "execution_count": 13,
   "id": "809c2ef0",
   "metadata": {},
   "outputs": [
    {
     "name": "stdout",
     "output_type": "stream",
     "text": [
      "[Decision Tree Regressor] Snap ML vs. Scikit-Learn speedup : 6.58x \n",
      "[Scikit-Learn] MSE score : 1.636\n",
      "[Snap ML] MSE score : 1.655\n"
     ]
    }
   ],
   "source": [
    "# Snap ML vs Scikit-Learn training speedup\n",
    "training_speedup = sklearn_time/snapml_time\n",
    "print('[Decision Tree Regressor] Snap ML vs. Scikit-Learn speedup : {0:.2f}x '.format(training_speedup))\n",
    "\n",
    "# run inference using the sklearn model\n",
    "sklearn_pred = sklearn_dt.predict(X_test)\n",
    "\n",
    "# evaluate mean squared error on the test dataset\n",
    "sklearn_mse = mean_squared_error(y_test, sklearn_pred)\n",
    "print('[Scikit-Learn] MSE score : {0:.3f}'.format(sklearn_mse))\n",
    "\n",
    "# run inference using the Snap ML model\n",
    "snapml_pred = snapml_dt.predict(X_test)\n",
    "\n",
    "# evaluate mean squared error on the test dataset\n",
    "snapml_mse = mean_squared_error(y_test, snapml_pred)\n",
    "print('[Snap ML] MSE score : {0:.3f}'.format(snapml_mse))"
   ]
  },
  {
   "cell_type": "markdown",
   "id": "860acc07",
   "metadata": {},
   "source": [
    "As shown above both decision tree models provide the same score on the test dataset. However Snap ML runs the training routine faster than Scikit-Learn. This is one of the advantages of using Snap ML: acceleration of training of classical machine learning models, such as linear and tree-based models. For more Snap ML examples, please visit https://github.com/IBM/snapml-examples. Moreover, as shown above, not only is Snap ML seemlessly accelerating scikit-learn applications, but the library's Python API is also compatible with scikit-learn metrics and data preprocessors."
   ]
  }
 ],
 "metadata": {
  "kernelspec": {
   "display_name": "Python 3 (ipykernel)",
   "language": "python",
   "name": "python3"
  },
  "language_info": {
   "codemirror_mode": {
    "name": "ipython",
    "version": 3
   },
   "file_extension": ".py",
   "mimetype": "text/x-python",
   "name": "python",
   "nbconvert_exporter": "python",
   "pygments_lexer": "ipython3",
   "version": "3.11.4"
  }
 },
 "nbformat": 4,
 "nbformat_minor": 5
}
